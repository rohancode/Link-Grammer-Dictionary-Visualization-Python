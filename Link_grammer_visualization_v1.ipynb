{
 "cells": [
  {
   "cell_type": "code",
   "execution_count": 1,
   "metadata": {},
   "outputs": [],
   "source": [
    "import rdflib\n",
    "from rdflib import URIRef, Graph, Namespace\n",
    "from rdflib.namespace import OWL, RDF, RDFS\n",
    "\n",
    "import ontospy\n",
    "from ontospy.ontodocs.viz.viz_d3tree import *\n",
    "\n",
    "import urllib.request"
   ]
  },
  {
   "cell_type": "code",
   "execution_count": 2,
   "metadata": {},
   "outputs": [
    {
     "name": "stdout",
     "output_type": "stream",
     "text": [
      "Name: rdflib\r\n",
      "Version: 5.0.0\r\n",
      "Summary: RDFLib is a Python library for working with RDF, a simple yet powerful language for representing information.\r\n",
      "Home-page: https://github.com/RDFLib/rdflib\r\n",
      "Author: Daniel 'eikeon' Krech\r\n",
      "Author-email: eikeon@eikeon.com\r\n",
      "License: BSD-3-Clause\r\n",
      "Location: /Users/Rohan/opt/anaconda3/lib/python3.7/site-packages\r\n",
      "Requires: six, isodate, pyparsing\r\n",
      "Required-by: SPARQLWrapper, rdflib-jsonld, ontospy\r\n"
     ]
    }
   ],
   "source": [
    "!pip show rdflib"
   ]
  },
  {
   "cell_type": "code",
   "execution_count": 3,
   "metadata": {},
   "outputs": [
    {
     "name": "stdout",
     "output_type": "stream",
     "text": [
      "Name: ontospy\r\n",
      "Version: 1.9.8.3\r\n",
      "Summary: Query, inspect and visualize knowledge models encoded as RDF/OWL ontologies.\r\n",
      "Home-page: https://github.com/lambdamusic/ontospy\r\n",
      "Author: Michele Pasin\r\n",
      "Author-email: michele.pasin@gmail.com\r\n",
      "License: MIT\r\n",
      "Location: /Users/Rohan/opt/anaconda3/lib/python3.7/site-packages\r\n",
      "Requires: rdflib, html5lib, rdflib-jsonld, SPARQLWrapper, click, keepalive, pyfiglet, requests, colorama, pyparsing\r\n",
      "Required-by: \r\n"
     ]
    }
   ],
   "source": [
    "!pip show ontospy"
   ]
  },
  {
   "cell_type": "code",
   "execution_count": 4,
   "metadata": {},
   "outputs": [],
   "source": [
    "target_url = 'https://raw.githubusercontent.com/aigents/aigents-java-nlp/master/src/test/java/org/aigents/nlp/lg\\\n",
    "/poc-english_5C_2018-06-06_0004.4.0.dict.txt'"
   ]
  },
  {
   "cell_type": "code",
   "execution_count": 5,
   "metadata": {},
   "outputs": [],
   "source": [
    "text = []\n",
    "for line in urllib.request.urlopen(target_url):\n",
    "    line = line.decode('utf-8')\n",
    "    text.append(line)"
   ]
  },
  {
   "cell_type": "code",
   "execution_count": 6,
   "metadata": {},
   "outputs": [],
   "source": [
    "sets = []\n",
    "for i, block in enumerate(text):\n",
    "    if '% C' in block:\n",
    "        cluster = text[i].replace('% ','').replace('\\n','')\n",
    "        a = text[i+2]\n",
    "        cluster_words = text[i+1].replace(':\\n','').replace('\"','').split(' ')\n",
    "        cluster_or_set = text[i+2].replace(';\\n','').replace('(','').replace(')','').replace(' & ','&').split(' or ')\n",
    "        sets.append([cluster, cluster_words, cluster_or_set])"
   ]
  },
  {
   "cell_type": "code",
   "execution_count": 7,
   "metadata": {},
   "outputs": [],
   "source": [
    "myOntology =  Namespace(\"http://www.semanticweb.org/myOntology#\")\n",
    "g = Graph()\n",
    "g.bind(\"myOntology\", myOntology)\n",
    "g = Graph()"
   ]
  },
  {
   "cell_type": "code",
   "execution_count": 8,
   "metadata": {},
   "outputs": [],
   "source": [
    "for case in sets:\n",
    "    cluster = URIRef(myOntology[case[0]])\n",
    "    g.add((cluster, RDF.type, OWL.Class))\n",
    "    g.add((cluster, RDFS.subClassOf, OWL.Thing))\n",
    "    for w in case[1]:\n",
    "        word = URIRef(myOntology[w])\n",
    "        g.add((word, RDF.type, OWL.Class))\n",
    "        g.add((word, RDFS.subClassOf, cluster))\n",
    "    for orc in case[2]:\n",
    "        or_case = URIRef(myOntology[orc])\n",
    "        g.add((or_case, RDF.type, OWL.Class))\n",
    "        g.add((or_case, RDFS.subClassOf, cluster))\n",
    "        for ampc in orc.split('&'):\n",
    "            amp_case = URIRef(myOntology[ampc])\n",
    "            g.add((amp_case, RDF.type, OWL.Class))\n",
    "            g.add((amp_case, RDFS.subClassOf, or_case))"
   ]
  },
  {
   "cell_type": "code",
   "execution_count": 9,
   "metadata": {},
   "outputs": [],
   "source": [
    "g.bind(\"owl\", OWL)\n",
    "g.serialize(destination='output.owl', format='pretty-xml')"
   ]
  },
  {
   "cell_type": "code",
   "execution_count": 10,
   "metadata": {},
   "outputs": [
    {
     "name": "stderr",
     "output_type": "stream",
     "text": [
      "Done.\n",
      "=> file:///Users/Rohan/ontospy-viz-test/outputowl/index.html\n"
     ]
    }
   ],
   "source": [
    "v = ontospy.Ontospy(\"output.owl\")\n",
    "v = Dataviz(v)\n",
    "v.build()\n",
    "v.preview()"
   ]
  }
 ],
 "metadata": {
  "kernelspec": {
   "display_name": "Python 3",
   "language": "python",
   "name": "python3"
  },
  "language_info": {
   "codemirror_mode": {
    "name": "ipython",
    "version": 3
   },
   "file_extension": ".py",
   "mimetype": "text/x-python",
   "name": "python",
   "nbconvert_exporter": "python",
   "pygments_lexer": "ipython3",
   "version": "3.7.4"
  }
 },
 "nbformat": 4,
 "nbformat_minor": 2
}
